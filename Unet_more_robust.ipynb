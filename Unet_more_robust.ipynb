{
  "cells": [
    {
      "cell_type": "markdown",
      "metadata": {
        "id": "view-in-github",
        "colab_type": "text"
      },
      "source": [
        "<a href=\"https://colab.research.google.com/github/cyteena/U-net/blob/main/Unet_more_robust.ipynb\" target=\"_parent\"><img src=\"https://colab.research.google.com/assets/colab-badge.svg\" alt=\"Open In Colab\"/></a>"
      ]
    },
    {
      "cell_type": "code",
      "execution_count": null,
      "metadata": {
        "colab": {
          "base_uri": "https://localhost:8080/"
        },
        "id": "Eo3y46KxGH63",
        "outputId": "be1568ab-c1b1-46ce-ab9b-ff6b9096807e"
      },
      "outputs": [
        {
          "name": "stdout",
          "output_type": "stream",
          "text": [
            "Collecting lpips\n",
            "  Downloading lpips-0.1.4-py3-none-any.whl.metadata (10 kB)\n",
            "Requirement already satisfied: torch>=0.4.0 in /usr/local/lib/python3.10/dist-packages (from lpips) (2.5.1+cu121)\n",
            "Requirement already satisfied: torchvision>=0.2.1 in /usr/local/lib/python3.10/dist-packages (from lpips) (0.20.1+cu121)\n",
            "Requirement already satisfied: numpy>=1.14.3 in /usr/local/lib/python3.10/dist-packages (from lpips) (1.26.4)\n",
            "Requirement already satisfied: scipy>=1.0.1 in /usr/local/lib/python3.10/dist-packages (from lpips) (1.13.1)\n",
            "Requirement already satisfied: tqdm>=4.28.1 in /usr/local/lib/python3.10/dist-packages (from lpips) (4.66.6)\n",
            "Requirement already satisfied: filelock in /usr/local/lib/python3.10/dist-packages (from torch>=0.4.0->lpips) (3.16.1)\n",
            "Requirement already satisfied: typing-extensions>=4.8.0 in /usr/local/lib/python3.10/dist-packages (from torch>=0.4.0->lpips) (4.12.2)\n",
            "Requirement already satisfied: networkx in /usr/local/lib/python3.10/dist-packages (from torch>=0.4.0->lpips) (3.4.2)\n",
            "Requirement already satisfied: jinja2 in /usr/local/lib/python3.10/dist-packages (from torch>=0.4.0->lpips) (3.1.4)\n",
            "Requirement already satisfied: fsspec in /usr/local/lib/python3.10/dist-packages (from torch>=0.4.0->lpips) (2024.10.0)\n",
            "Requirement already satisfied: sympy==1.13.1 in /usr/local/lib/python3.10/dist-packages (from torch>=0.4.0->lpips) (1.13.1)\n",
            "Requirement already satisfied: mpmath<1.4,>=1.1.0 in /usr/local/lib/python3.10/dist-packages (from sympy==1.13.1->torch>=0.4.0->lpips) (1.3.0)\n",
            "Requirement already satisfied: pillow!=8.3.*,>=5.3.0 in /usr/local/lib/python3.10/dist-packages (from torchvision>=0.2.1->lpips) (11.0.0)\n",
            "Requirement already satisfied: MarkupSafe>=2.0 in /usr/local/lib/python3.10/dist-packages (from jinja2->torch>=0.4.0->lpips) (3.0.2)\n",
            "Downloading lpips-0.1.4-py3-none-any.whl (53 kB)\n",
            "\u001b[2K   \u001b[90m━━━━━━━━━━━━━━━━━━━━━━━━━━━━━━━━━━━━━━━━\u001b[0m \u001b[32m53.8/53.8 kB\u001b[0m \u001b[31m1.8 MB/s\u001b[0m eta \u001b[36m0:00:00\u001b[0m\n",
            "\u001b[?25hInstalling collected packages: lpips\n",
            "Successfully installed lpips-0.1.4\n"
          ]
        }
      ],
      "source": [
        "!pip install lpips"
      ]
    },
    {
      "cell_type": "code",
      "execution_count": null,
      "metadata": {
        "colab": {
          "base_uri": "https://localhost:8080/",
          "height": 76
        },
        "id": "GcaWw1UBGLwM",
        "outputId": "48053595-8ba9-48cd-c262-b08e763800b4"
      },
      "outputs": [
        {
          "data": {
            "text/html": [
              "\n",
              "     <input type=\"file\" id=\"files-75eeaf30-99f2-4776-9c88-d8b5e6ffc3f5\" name=\"files[]\" multiple disabled\n",
              "        style=\"border:none\" />\n",
              "     <output id=\"result-75eeaf30-99f2-4776-9c88-d8b5e6ffc3f5\">\n",
              "      Upload widget is only available when the cell has been executed in the\n",
              "      current browser session. Please rerun this cell to enable.\n",
              "      </output>\n",
              "      <script>// Copyright 2017 Google LLC\n",
              "//\n",
              "// Licensed under the Apache License, Version 2.0 (the \"License\");\n",
              "// you may not use this file except in compliance with the License.\n",
              "// You may obtain a copy of the License at\n",
              "//\n",
              "//      http://www.apache.org/licenses/LICENSE-2.0\n",
              "//\n",
              "// Unless required by applicable law or agreed to in writing, software\n",
              "// distributed under the License is distributed on an \"AS IS\" BASIS,\n",
              "// WITHOUT WARRANTIES OR CONDITIONS OF ANY KIND, either express or implied.\n",
              "// See the License for the specific language governing permissions and\n",
              "// limitations under the License.\n",
              "\n",
              "/**\n",
              " * @fileoverview Helpers for google.colab Python module.\n",
              " */\n",
              "(function(scope) {\n",
              "function span(text, styleAttributes = {}) {\n",
              "  const element = document.createElement('span');\n",
              "  element.textContent = text;\n",
              "  for (const key of Object.keys(styleAttributes)) {\n",
              "    element.style[key] = styleAttributes[key];\n",
              "  }\n",
              "  return element;\n",
              "}\n",
              "\n",
              "// Max number of bytes which will be uploaded at a time.\n",
              "const MAX_PAYLOAD_SIZE = 100 * 1024;\n",
              "\n",
              "function _uploadFiles(inputId, outputId) {\n",
              "  const steps = uploadFilesStep(inputId, outputId);\n",
              "  const outputElement = document.getElementById(outputId);\n",
              "  // Cache steps on the outputElement to make it available for the next call\n",
              "  // to uploadFilesContinue from Python.\n",
              "  outputElement.steps = steps;\n",
              "\n",
              "  return _uploadFilesContinue(outputId);\n",
              "}\n",
              "\n",
              "// This is roughly an async generator (not supported in the browser yet),\n",
              "// where there are multiple asynchronous steps and the Python side is going\n",
              "// to poll for completion of each step.\n",
              "// This uses a Promise to block the python side on completion of each step,\n",
              "// then passes the result of the previous step as the input to the next step.\n",
              "function _uploadFilesContinue(outputId) {\n",
              "  const outputElement = document.getElementById(outputId);\n",
              "  const steps = outputElement.steps;\n",
              "\n",
              "  const next = steps.next(outputElement.lastPromiseValue);\n",
              "  return Promise.resolve(next.value.promise).then((value) => {\n",
              "    // Cache the last promise value to make it available to the next\n",
              "    // step of the generator.\n",
              "    outputElement.lastPromiseValue = value;\n",
              "    return next.value.response;\n",
              "  });\n",
              "}\n",
              "\n",
              "/**\n",
              " * Generator function which is called between each async step of the upload\n",
              " * process.\n",
              " * @param {string} inputId Element ID of the input file picker element.\n",
              " * @param {string} outputId Element ID of the output display.\n",
              " * @return {!Iterable<!Object>} Iterable of next steps.\n",
              " */\n",
              "function* uploadFilesStep(inputId, outputId) {\n",
              "  const inputElement = document.getElementById(inputId);\n",
              "  inputElement.disabled = false;\n",
              "\n",
              "  const outputElement = document.getElementById(outputId);\n",
              "  outputElement.innerHTML = '';\n",
              "\n",
              "  const pickedPromise = new Promise((resolve) => {\n",
              "    inputElement.addEventListener('change', (e) => {\n",
              "      resolve(e.target.files);\n",
              "    });\n",
              "  });\n",
              "\n",
              "  const cancel = document.createElement('button');\n",
              "  inputElement.parentElement.appendChild(cancel);\n",
              "  cancel.textContent = 'Cancel upload';\n",
              "  const cancelPromise = new Promise((resolve) => {\n",
              "    cancel.onclick = () => {\n",
              "      resolve(null);\n",
              "    };\n",
              "  });\n",
              "\n",
              "  // Wait for the user to pick the files.\n",
              "  const files = yield {\n",
              "    promise: Promise.race([pickedPromise, cancelPromise]),\n",
              "    response: {\n",
              "      action: 'starting',\n",
              "    }\n",
              "  };\n",
              "\n",
              "  cancel.remove();\n",
              "\n",
              "  // Disable the input element since further picks are not allowed.\n",
              "  inputElement.disabled = true;\n",
              "\n",
              "  if (!files) {\n",
              "    return {\n",
              "      response: {\n",
              "        action: 'complete',\n",
              "      }\n",
              "    };\n",
              "  }\n",
              "\n",
              "  for (const file of files) {\n",
              "    const li = document.createElement('li');\n",
              "    li.append(span(file.name, {fontWeight: 'bold'}));\n",
              "    li.append(span(\n",
              "        `(${file.type || 'n/a'}) - ${file.size} bytes, ` +\n",
              "        `last modified: ${\n",
              "            file.lastModifiedDate ? file.lastModifiedDate.toLocaleDateString() :\n",
              "                                    'n/a'} - `));\n",
              "    const percent = span('0% done');\n",
              "    li.appendChild(percent);\n",
              "\n",
              "    outputElement.appendChild(li);\n",
              "\n",
              "    const fileDataPromise = new Promise((resolve) => {\n",
              "      const reader = new FileReader();\n",
              "      reader.onload = (e) => {\n",
              "        resolve(e.target.result);\n",
              "      };\n",
              "      reader.readAsArrayBuffer(file);\n",
              "    });\n",
              "    // Wait for the data to be ready.\n",
              "    let fileData = yield {\n",
              "      promise: fileDataPromise,\n",
              "      response: {\n",
              "        action: 'continue',\n",
              "      }\n",
              "    };\n",
              "\n",
              "    // Use a chunked sending to avoid message size limits. See b/62115660.\n",
              "    let position = 0;\n",
              "    do {\n",
              "      const length = Math.min(fileData.byteLength - position, MAX_PAYLOAD_SIZE);\n",
              "      const chunk = new Uint8Array(fileData, position, length);\n",
              "      position += length;\n",
              "\n",
              "      const base64 = btoa(String.fromCharCode.apply(null, chunk));\n",
              "      yield {\n",
              "        response: {\n",
              "          action: 'append',\n",
              "          file: file.name,\n",
              "          data: base64,\n",
              "        },\n",
              "      };\n",
              "\n",
              "      let percentDone = fileData.byteLength === 0 ?\n",
              "          100 :\n",
              "          Math.round((position / fileData.byteLength) * 100);\n",
              "      percent.textContent = `${percentDone}% done`;\n",
              "\n",
              "    } while (position < fileData.byteLength);\n",
              "  }\n",
              "\n",
              "  // All done.\n",
              "  yield {\n",
              "    response: {\n",
              "      action: 'complete',\n",
              "    }\n",
              "  };\n",
              "}\n",
              "\n",
              "scope.google = scope.google || {};\n",
              "scope.google.colab = scope.google.colab || {};\n",
              "scope.google.colab._files = {\n",
              "  _uploadFiles,\n",
              "  _uploadFilesContinue,\n",
              "};\n",
              "})(self);\n",
              "</script> "
            ],
            "text/plain": [
              "<IPython.core.display.HTML object>"
            ]
          },
          "metadata": {},
          "output_type": "display_data"
        },
        {
          "name": "stdout",
          "output_type": "stream",
          "text": [
            "Saving data_sunset.jpg to data_sunset.jpg\n"
          ]
        }
      ],
      "source": [
        "from google.colab import files\n",
        "\n",
        "upload = files.upload()"
      ]
    },
    {
      "cell_type": "code",
      "execution_count": null,
      "metadata": {
        "colab": {
          "base_uri": "https://localhost:8080/"
        },
        "id": "RTpnoTGfGcR9",
        "outputId": "552b904c-93bc-465a-fddc-916733e6f975"
      },
      "outputs": [
        {
          "name": "stdout",
          "output_type": "stream",
          "text": [
            "Setting up [LPIPS] perceptual loss: trunk [alex], v[0.1], spatial [off]\n"
          ]
        },
        {
          "name": "stderr",
          "output_type": "stream",
          "text": [
            "/usr/local/lib/python3.10/dist-packages/torchvision/models/_utils.py:208: UserWarning: The parameter 'pretrained' is deprecated since 0.13 and may be removed in the future, please use 'weights' instead.\n",
            "  warnings.warn(\n",
            "/usr/local/lib/python3.10/dist-packages/torchvision/models/_utils.py:223: UserWarning: Arguments other than a weight enum or `None` for 'weights' are deprecated since 0.13 and may be removed in the future. The current behavior is equivalent to passing `weights=AlexNet_Weights.IMAGENET1K_V1`. You can also use `weights=AlexNet_Weights.DEFAULT` to get the most up-to-date weights.\n",
            "  warnings.warn(msg)\n"
          ]
        },
        {
          "name": "stdout",
          "output_type": "stream",
          "text": [
            "Loading model from: /usr/local/lib/python3.10/dist-packages/lpips/weights/v0.1/alex.pth\n"
          ]
        },
        {
          "name": "stderr",
          "output_type": "stream",
          "text": [
            "/usr/local/lib/python3.10/dist-packages/lpips/lpips.py:107: FutureWarning: You are using `torch.load` with `weights_only=False` (the current default value), which uses the default pickle module implicitly. It is possible to construct malicious pickle data which will execute arbitrary code during unpickling (See https://github.com/pytorch/pytorch/blob/main/SECURITY.md#untrusted-models for more details). In a future release, the default value for `weights_only` will be flipped to `True`. This limits the functions that could be executed during unpickling. Arbitrary objects will no longer be allowed to be loaded via this mode unless they are explicitly allowlisted by the user via `torch.serialization.add_safe_globals`. We recommend you start setting `weights_only=True` for any use case where you don't have full control of the loaded file. Please open an issue on GitHub for any issues related to this experimental feature.\n",
            "  self.load_state_dict(torch.load(model_path, map_location='cpu'), strict=False)\n"
          ]
        }
      ],
      "source": [
        "import torch\n",
        "import torch.nn as nn\n",
        "import torch.nn.functional as F\n",
        "import torchvision.transforms as transforms\n",
        "import torch.optim as optim\n",
        "from PIL import Image\n",
        "import lpips\n",
        "from collections import deque\n",
        "\n",
        "device = torch.device(\"cuda\" if torch.cuda.is_available() else \"cpu\")\n",
        "\n",
        "class Unet(nn.Module):\n",
        "    def __init__(self, num_channels, in_channels=6, out_channels=2):\n",
        "        super().__init__()\n",
        "\n",
        "        # Encoder layers\n",
        "        self.encoder_layers = nn.ModuleList()\n",
        "        self.encoder_layers.append(self.conv_block(in_channels, num_channels[0])) # 6 --> 64\n",
        "        for i in range(len(num_channels) - 2): #leave the last layer\n",
        "            self.encoder_layers.append(self.conv_block(num_channels[i], num_channels[i + 1])) # 64 --> 128\n",
        "            # encoder_layer: [6 --> 64, 64 --> 128]\n",
        "\n",
        "        # Bottleneck\n",
        "        self.bottleneck = self.conv_block(num_channels[-2], num_channels[-1]) # 128 --> 256\n",
        "\n",
        "        # Decoder layers\n",
        "        self.decoder_layers = nn.ModuleList()\n",
        "        self.upconv_layers = nn.ModuleList()\n",
        "        for i in range(len(num_channels) - 1, 0, -1): # range(3,0,-1) = [3, 2, 1]\n",
        "            self.upconv_layers.append(nn.ConvTranspose2d(num_channels[i], num_channels[i - 1], kernel_size=2, stride=2)) # 256 --> 128 # 128 --> 64\n",
        "            self.decoder_layers.append(self.conv_block(num_channels[i], num_channels[i - 1])) # 256 --> 128 # 128 --> 64\n",
        "\n",
        "        # Final layer\n",
        "        self.output_layer = nn.Conv2d(num_channels[0], out_channels, kernel_size=1, padding=0) # 64 --> 2\n",
        "\n",
        "    def conv_block(self, in_channels:int, out_channels:int):\n",
        "        return nn.Sequential(\n",
        "            nn.Conv2d(in_channels, out_channels, kernel_size=3, padding=1),\n",
        "            nn.BatchNorm2d(out_channels),\n",
        "            nn.ReLU(inplace=True),\n",
        "            nn.Conv2d(out_channels, out_channels, kernel_size=3, padding=1),\n",
        "            nn.BatchNorm2d(out_channels),\n",
        "            nn.ReLU(inplace=True)\n",
        "        )\n",
        "\n",
        "    # def crop_tensor(self, tensor, target_tensor):\n",
        "    #     \"\"\"\n",
        "    #     Crop the target_tensor to match the size of the tensor.\n",
        "    #     \"\"\"\n",
        "    #     target_size = tensor.size()[-2:]\n",
        "    #     _, _, h, w = target_tensor.size()\n",
        "    #     crop_h = (h - target_size[0]) // 2\n",
        "    #     crop_w = (w - target_size[1]) // 2\n",
        "    #     return target_tensor[:, :, crop_h:crop_h + target_size[0], crop_w:crop_w + target_size[1]]\n",
        "\n",
        "    def forward(self, x):\n",
        "        # Encoder\n",
        "        encoder_outputs = []\n",
        "        for layer in self.encoder_layers: # encoder_layers = [6 --> 64, 64 --> 128, 128 --> 256]\n",
        "            x = layer(x)\n",
        "            encoder_outputs.append(x) # encoder_outputs = [64, 128, 256] --> [num_channels[-4], num_channels[-3], num_channels[-2]]\n",
        "            x = nn.MaxPool2d(kernel_size=2, stride=2)(x)\n",
        "\n",
        "        # Bottleneck\n",
        "        x = self.bottleneck(x) # 256 --> 512\n",
        "\n",
        "        # Decoder\n",
        "        # upconv_layers = [512 --> 256, 256 --> 128, 128 --> 64] and decoder_layers = [512 --> 256, 256 --> 128, 128 --> 64]\n",
        "        for i in range(len(self.decoder_layers)): # range(3) = [0, 1, 2]\n",
        "            x = self.upconv_layers[i](x)\n",
        "            x = torch.cat([encoder_outputs[-(i + 1)], x], dim=1)\n",
        "            # encoder_output[-(i + 1)] == num_channels[-(i + 2)]\n",
        "            x = self.decoder_layers[i](x)\n",
        "\n",
        "        # Final layer\n",
        "        x = self.output_layer(x)\n",
        "        return x\n",
        "\n",
        "\n",
        "num_channels = [64, 128, 256, 512]\n",
        "\n",
        "model_unet = Unet(num_channels).to(device)\n",
        "\n",
        "transform = transforms.Compose([\n",
        "    transforms.Resize((572, 572)),\n",
        "    transforms.ToTensor()\n",
        "])\n",
        "\n",
        "loss_fn = lpips.LPIPS(net = \"alex\").to(device)\n",
        "\n",
        "\n",
        "def image_to_tensor(image_path):\n",
        "    image = Image.open(image_path).convert('RGB')\n",
        "    tensor = transform(image).unsqueeze(0)  # Add batch dimension\n",
        "    return tensor\n",
        "\n",
        "def apply_deformation_field(deformation_field, image):\n",
        "    _, _, H, W = image.shape\n",
        "\n",
        "    grid_y, grid_x = torch.meshgrid(torch.linspace(-1, 1, H), torch.linspace(-1, 1, W))\n",
        "    grid = torch.stack((grid_x, grid_y), 2).unsqueeze(0).to(image.device)\n",
        "\n",
        "    deformation_field = deformation_field.permute(0,2,3,1)\n",
        "    grid = grid + deformation_field\n",
        "\n",
        "    deformed_image = F.grid_sample(image, grid, mode=\"bilinear\", padding_mode=\"reflection\", align_corners=True)\n",
        "    return deformed_image\n",
        "\n",
        "\n",
        "\n",
        "def train_step(model, content_image, style_image, optimizer, loss_fn):\n",
        "    model.train()\n",
        "    optimizer.zero_grad()\n",
        "\n",
        "    if len(content_image.shape) == 3:\n",
        "        content_image = content_image.unsqueeze(0)\n",
        "    if len(style_image.shape) == 3:\n",
        "        style_image = style_image.unsqueeze(0)\n",
        "\n",
        "    mixed_image = torch.cat([content_image, style_image], dim = 1)\n",
        "    deformation_field = model(mixed_image)\n",
        "\n",
        "    deformed_style_image = apply_deformation_field(deformation_field, style_image)\n",
        "\n",
        "    lpips_loss = loss_fn(deformed_style_image, content_image)\n",
        "\n",
        "    lpips_loss.backward()\n",
        "    optimizer.step()\n",
        "\n",
        "    return lpips_loss.item()\n",
        "\n",
        "def main(content_image_path, style_image_path):\n",
        "    content = image_to_tensor(content_image_path).to(device)\n",
        "    style = image_to_tensor(style_image_path).to(device)\n",
        "    return content, style"
      ]
    },
    {
      "cell_type": "code",
      "execution_count": null,
      "metadata": {
        "id": "ff8XpvP4GvaI"
      },
      "outputs": [],
      "source": [
        "content_image = \"/content/data_cute_cat.jpg\"\n",
        "style_image = \"/content/data_star_night.jpg\"\n",
        "\n",
        "content = image_to_tensor(content_image).to(device)\n",
        "style = image_to_tensor(style_image).to(device)"
      ]
    },
    {
      "cell_type": "code",
      "execution_count": null,
      "metadata": {
        "colab": {
          "base_uri": "https://localhost:8080/"
        },
        "id": "whE4mARqHGMS",
        "outputId": "bc6ebc4b-33ee-4288-ee0a-fa043688b23e"
      },
      "outputs": [
        {
          "data": {
            "text/plain": [
              "torch.Size([1, 3, 256, 256])"
            ]
          },
          "execution_count": 7,
          "metadata": {},
          "output_type": "execute_result"
        }
      ],
      "source": [
        "content.shape"
      ]
    },
    {
      "cell_type": "markdown",
      "metadata": {
        "id": "Aj_Bj3l6IlaO"
      },
      "source": [
        "This code show how to turn a tensor (N, C, H, W)\n",
        "\n",
        "into an image"
      ]
    },
    {
      "cell_type": "code",
      "execution_count": null,
      "metadata": {
        "id": "-dEalwabH0Km"
      },
      "outputs": [],
      "source": [
        "to_pil_image = transforms.ToPILImage()\n",
        "image = to_pil_image(content.squeeze(0))"
      ]
    },
    {
      "cell_type": "code",
      "execution_count": null,
      "metadata": {
        "id": "mzh_Ihrwg1uv"
      },
      "outputs": [],
      "source": [
        "outputs =[]"
      ]
    },
    {
      "cell_type": "code",
      "execution_count": null,
      "metadata": {
        "colab": {
          "base_uri": "https://localhost:8080/"
        },
        "id": "-9GQLZxLIDzg",
        "outputId": "8e40d6dd-2056-4687-8abf-6b8fdedca240"
      },
      "outputs": [
        {
          "name": "stdout",
          "output_type": "stream",
          "text": [
            "Epoch 0, Average Loss: 1.0835273265838623\n",
            "Epoch 50, Average Loss: 1.0117256784439086\n",
            "Epoch 100, Average Loss: 0.8771947336196899\n",
            "Epoch 150, Average Loss: 0.839885458946228\n",
            "Epoch 200, Average Loss: 0.891559261083603\n",
            "Epoch 250, Average Loss: 0.8821085667610169\n",
            "Epoch 300, Average Loss: 0.7899301671981811\n",
            "Epoch 350, Average Loss: 0.7711140191555024\n",
            "Epoch 400, Average Loss: 0.80642462849617\n",
            "Epoch 450, Average Loss: 0.8026821494102478\n",
            "Epoch 500, Average Loss: 0.7367021298408508\n",
            "Epoch 550, Average Loss: 0.7224828255176544\n",
            "Epoch 600, Average Loss: 0.7575263416767121\n",
            "Epoch 650, Average Loss: 0.7784326756000519\n",
            "Epoch 700, Average Loss: 0.719307199716568\n",
            "Epoch 750, Average Loss: 0.7061834621429444\n",
            "Epoch 800, Average Loss: 0.7571823573112488\n",
            "Epoch 850, Average Loss: 0.7570263671875\n",
            "Epoch 900, Average Loss: 0.6922887241840363\n",
            "Epoch 950, Average Loss: 0.6765922439098359\n"
          ]
        }
      ],
      "source": [
        "\n",
        "optimizer = optim.Adam(model_unet.parameters(), lr =3e-4, weight_decay=1e-5)\n",
        "\n",
        "scheduler = optim.lr_scheduler.CosineAnnealingLR(optimizer, T_max = 100, eta_min=1e-7)\n",
        "\n",
        "num_epoches = 1000\n",
        "\n",
        "recent_losses = deque(maxlen = 50)\n",
        "\n",
        "for epoch in range(num_epoches):\n",
        "    loss = train_step(model_unet, content, style, optimizer, loss_fn)\n",
        "    recent_losses.append(loss)\n",
        "\n",
        "    if (epoch) % 50 == 0:\n",
        "        avg_loss = sum(recent_losses) / len(recent_losses)\n",
        "        print(f'Epoch {epoch}, Average Loss: {avg_loss}')\n",
        "        mixed = torch.cat([content, style], dim = 1)\n",
        "\n",
        "    if epoch % 100 == 0:\n",
        "        model_unet.eval()\n",
        "        deformation_field = model_unet(mixed)\n",
        "        output = apply_deformation_field(deformation_field, style)\n",
        "        outputs.append(output)\n",
        "        model_unet.train()\n",
        "\n",
        "\n",
        "    scheduler.step()"
      ]
    },
    {
      "cell_type": "code",
      "execution_count": null,
      "metadata": {
        "id": "V6F1HomCI2za"
      },
      "outputs": [],
      "source": [
        "mixed = torch.cat([content, style], dim = 1)\n",
        "deformation_field = model_unet(mixed)\n",
        "output = apply_deformation_field(deformation_field, style)"
      ]
    },
    {
      "cell_type": "code",
      "execution_count": null,
      "metadata": {
        "colab": {
          "base_uri": "https://localhost:8080/"
        },
        "id": "dRpPu-loKn09",
        "outputId": "ca01b83a-98bb-44bf-d33a-600a0e63b6bd"
      },
      "outputs": [
        {
          "data": {
            "text/plain": [
              "torch.Size([1, 3, 256, 256])"
            ]
          },
          "execution_count": 16,
          "metadata": {},
          "output_type": "execute_result"
        }
      ],
      "source": [
        "output.shape"
      ]
    },
    {
      "cell_type": "code",
      "execution_count": null,
      "metadata": {
        "id": "EdG4aV1kKow-"
      },
      "outputs": [],
      "source": [
        "image = to_pil_image(output.squeeze(0))\n",
        "image.save(\"output4.jpg\")"
      ]
    },
    {
      "cell_type": "code",
      "execution_count": null,
      "metadata": {
        "colab": {
          "base_uri": "https://localhost:8080/"
        },
        "id": "InbKT2pkKx6p",
        "outputId": "cfb96e10-b024-4048-f205-21c8eafd65a1"
      },
      "outputs": [
        {
          "data": {
            "text/plain": [
              "20"
            ]
          },
          "execution_count": 31,
          "metadata": {},
          "output_type": "execute_result"
        }
      ],
      "source": [
        "len(outputs)"
      ]
    },
    {
      "cell_type": "code",
      "execution_count": null,
      "metadata": {
        "id": "KapY3WfKhO5E"
      },
      "outputs": [],
      "source": [
        "for i in range(len(outputs)):\n",
        "    image = to_pil_image(outputs[i].squeeze(0))\n",
        "    image.save(f\"/content/outputs/output_{i}.jpg\")"
      ]
    },
    {
      "cell_type": "code",
      "execution_count": null,
      "metadata": {
        "colab": {
          "base_uri": "https://localhost:8080/"
        },
        "id": "X7-ugv0chb2K",
        "outputId": "2fd40d6d-8395-4f87-ff14-75049a54bf33"
      },
      "outputs": [
        {
          "output_type": "stream",
          "name": "stderr",
          "text": [
            "<ipython-input-43-bcf489bf1e08>:13: DeprecationWarning: Starting with ImageIO v3 the behavior of this function will switch to that of iio.v3.imread. To keep the current behavior (and make this warning disappear) use `import imageio.v2 as imageio` or call `imageio.v2.imread` directly.\n",
            "  image_frames.append(imageio.imread(image_path))\n"
          ]
        }
      ],
      "source": [
        "# prompt: convert the output_0 ~ output_19  into a gif\n",
        "\n",
        "import imageio\n",
        "import os\n",
        "\n",
        "# Create a list to store the image frames\n",
        "image_frames = []\n",
        "\n",
        "# Iterate through the output image files and append them to the list\n",
        "for i in range(len(outputs)):\n",
        "    image_path = f\"/content/outputs/output_{i}.jpg\"\n",
        "    if os.path.exists(image_path):  # Check if the file exists\n",
        "        image_frames.append(imageio.imread(image_path))\n",
        "    else:\n",
        "        print(f\"Warning: File {image_path} not found. Skipping.\")\n",
        "\n",
        "# Save the image frames as an animated GIF\n",
        "imageio.mimsave('output.gif', image_frames, fps=2) # Adjust fps as needed"
      ]
    }
  ],
  "metadata": {
    "accelerator": "GPU",
    "colab": {
      "gpuType": "T4",
      "provenance": [],
      "authorship_tag": "ABX9TyMjG28Cca19x70gXyM9BSVd",
      "include_colab_link": true
    },
    "kernelspec": {
      "display_name": "Python 3",
      "name": "python3"
    },
    "language_info": {
      "name": "python"
    }
  },
  "nbformat": 4,
  "nbformat_minor": 0
}