{
  "nbformat": 4,
  "nbformat_minor": 0,
  "metadata": {
    "colab": {
      "provenance": [],
      "authorship_tag": "ABX9TyOVD9rM0MXbt4yP6OCngBgV",
      "include_colab_link": true
    },
    "kernelspec": {
      "name": "python3",
      "display_name": "Python 3"
    },
    "language_info": {
      "name": "python"
    }
  },
  "cells": [
    {
      "cell_type": "markdown",
      "metadata": {
        "id": "view-in-github",
        "colab_type": "text"
      },
      "source": [
        "<a href=\"https://colab.research.google.com/github/cyteena/U-net/blob/main/Understanding_TransposeConvolution.ipynb\" target=\"_parent\"><img src=\"https://colab.research.google.com/assets/colab-badge.svg\" alt=\"Open In Colab\"/></a>"
      ]
    },
    {
      "cell_type": "code",
      "execution_count": 1,
      "metadata": {
        "id": "YxKjTsDsPyLu"
      },
      "outputs": [],
      "source": [
        "import torch\n",
        "import torch.nn as nn"
      ]
    },
    {
      "cell_type": "code",
      "source": [
        "input = torch.randn(1,1,4,4)"
      ],
      "metadata": {
        "id": "alGLND5HP9Zz"
      },
      "execution_count": 2,
      "outputs": []
    },
    {
      "cell_type": "code",
      "source": [
        "input"
      ],
      "metadata": {
        "colab": {
          "base_uri": "https://localhost:8080/"
        },
        "id": "6F_gqk1FQEUe",
        "outputId": "e6dbd447-25d3-42c0-9373-b09878d3bdc6"
      },
      "execution_count": 3,
      "outputs": [
        {
          "output_type": "execute_result",
          "data": {
            "text/plain": [
              "tensor([[[[ 0.3536,  0.5475, -0.7747, -1.3373],\n",
              "          [-0.7053, -0.0223,  0.3113,  1.6997],\n",
              "          [ 2.7261,  0.2397, -0.3973, -0.0714],\n",
              "          [ 0.2807, -1.6850, -1.5283, -0.3524]]]])"
            ]
          },
          "metadata": {},
          "execution_count": 3
        }
      ]
    },
    {
      "cell_type": "code",
      "source": [
        "transposed_conv = nn.ConvTranspose2d(\n",
        "    in_channels=1,\n",
        "    out_channels=1,\n",
        "    kernel_size=3,\n",
        "    stride=2,\n",
        "    padding=1\n",
        ")"
      ],
      "metadata": {
        "id": "gAddratBQFv2"
      },
      "execution_count": 12,
      "outputs": []
    },
    {
      "cell_type": "code",
      "source": [
        "output = transposed_conv(input)\n",
        "output, output.shape"
      ],
      "metadata": {
        "colab": {
          "base_uri": "https://localhost:8080/"
        },
        "id": "fhwKmLG0QKpJ",
        "outputId": "57257a04-dc0b-485b-dd2e-878a3ba6050e"
      },
      "execution_count": 13,
      "outputs": [
        {
          "output_type": "execute_result",
          "data": {
            "text/plain": [
              "(tensor([[[[ 0.0951,  0.0021,  0.1508,  0.1405, -0.2287, -0.0135, -0.3902],\n",
              "           [-0.1813,  0.0579, -0.1298, -0.1330,  0.2069,  0.2045,  0.5219],\n",
              "           [-0.2088, -0.1114, -0.0127, -0.0354,  0.0830, -0.0993,  0.4816],\n",
              "           [ 0.5244,  0.3207,  0.0316, -0.0226, -0.1295,  0.3731, -0.3899],\n",
              "           [ 0.7762,  0.3869,  0.0625,  0.0627, -0.1204, -0.0607, -0.0268],\n",
              "           [-0.5670, -0.5033, -0.2912, -0.7256, -0.1296, -0.2546, -0.0392],\n",
              "           [ 0.0742,  0.1751, -0.4900, -0.1356, -0.4451, -0.2088, -0.1075]]]],\n",
              "        grad_fn=<ConvolutionBackward0>),\n",
              " torch.Size([1, 1, 7, 7]))"
            ]
          },
          "metadata": {},
          "execution_count": 13
        }
      ]
    }
  ]
}