{
  "nbformat": 4,
  "nbformat_minor": 0,
  "metadata": {
    "colab": {
      "provenance": [],
      "authorship_tag": "ABX9TyNIU8vnSMmO/lFfQQXroV++",
      "include_colab_link": true
    },
    "kernelspec": {
      "name": "python3",
      "display_name": "Python 3"
    },
    "language_info": {
      "name": "python"
    }
  },
  "cells": [
    {
      "cell_type": "markdown",
      "metadata": {
        "id": "view-in-github",
        "colab_type": "text"
      },
      "source": [
        "<a href=\"https://colab.research.google.com/github/cyteena/U-net/blob/main/From_numpy_mean_to_BatchNormalization.ipynb\" target=\"_parent\"><img src=\"https://colab.research.google.com/assets/colab-badge.svg\" alt=\"Open In Colab\"/></a>"
      ]
    },
    {
      "cell_type": "code",
      "execution_count": 3,
      "metadata": {
        "id": "3wWRWh78FCfd"
      },
      "outputs": [],
      "source": [
        "import numpy as np"
      ]
    },
    {
      "cell_type": "code",
      "source": [
        "arr = np.array([[1, 2], [3, 4], [5, 6]])\n",
        "mean_along_axis_0 = np.mean(arr, axis = 0)\n",
        "print(mean_along_axis_0)"
      ],
      "metadata": {
        "colab": {
          "base_uri": "https://localhost:8080/"
        },
        "id": "RP1Z2IZCFGvu",
        "outputId": "1bb247de-c4a8-46e5-da4b-dbf40c71aaf8"
      },
      "execution_count": 4,
      "outputs": [
        {
          "output_type": "stream",
          "name": "stdout",
          "text": [
            "[3. 4.]\n"
          ]
        }
      ]
    },
    {
      "cell_type": "code",
      "source": [
        "arr.shape"
      ],
      "metadata": {
        "colab": {
          "base_uri": "https://localhost:8080/"
        },
        "id": "MmmFEnlzFLD6",
        "outputId": "45efc55c-978e-49ec-f75f-7f98229b70b8"
      },
      "execution_count": 5,
      "outputs": [
        {
          "output_type": "execute_result",
          "data": {
            "text/plain": [
              "(3, 2)"
            ]
          },
          "metadata": {},
          "execution_count": 5
        }
      ]
    },
    {
      "cell_type": "code",
      "source": [
        "arr = np.array([[[[1, 2], [3, 4]], [[5, 6], [7, 8]]], [[[9, 10], [11, 12]], [[13, 14], [15, 16]]]])\n",
        "mean_along_multiple_axes = np.mean(arr, axis=(0, 2))\n",
        "print(mean_along_multiple_axes)"
      ],
      "metadata": {
        "colab": {
          "base_uri": "https://localhost:8080/"
        },
        "id": "_Y-I4J_oFRza",
        "outputId": "cd9eb061-ba72-4fc7-f4e0-41167139a4f9"
      },
      "execution_count": 6,
      "outputs": [
        {
          "output_type": "stream",
          "name": "stdout",
          "text": [
            "[[ 6.  7.]\n",
            " [10. 11.]]\n"
          ]
        }
      ]
    },
    {
      "cell_type": "code",
      "source": [
        "mean_along_multiple_axes.shape"
      ],
      "metadata": {
        "colab": {
          "base_uri": "https://localhost:8080/"
        },
        "id": "aBPkYks2FZL9",
        "outputId": "a6789d8b-5d8f-4e6a-b73a-cf2b797bb1e7"
      },
      "execution_count": 8,
      "outputs": [
        {
          "output_type": "execute_result",
          "data": {
            "text/plain": [
              "(2, 2)"
            ]
          },
          "metadata": {},
          "execution_count": 8
        }
      ]
    },
    {
      "cell_type": "code",
      "source": [
        "arr = np.array([[1, 2], [3, 4]])\n",
        "mean_along_axis_0_with_keepdims = np.mean(arr, axis = 0, keepdims=True)\n",
        "print(mean_along_axis_0_with_keepdims)"
      ],
      "metadata": {
        "colab": {
          "base_uri": "https://localhost:8080/"
        },
        "id": "WhWnj9F5Ffc4",
        "outputId": "e99c17ca-851a-4bb0-810b-e39080c43bdd"
      },
      "execution_count": 10,
      "outputs": [
        {
          "output_type": "stream",
          "name": "stdout",
          "text": [
            "[[2. 3.]]\n"
          ]
        }
      ]
    },
    {
      "cell_type": "code",
      "source": [
        "mean_along_axis_0_with_keepdims.shape"
      ],
      "metadata": {
        "colab": {
          "base_uri": "https://localhost:8080/"
        },
        "id": "HAmzNL-XFqwE",
        "outputId": "ba4c3ed7-106d-4e47-d492-aafb16af4811"
      },
      "execution_count": 12,
      "outputs": [
        {
          "output_type": "execute_result",
          "data": {
            "text/plain": [
              "(1, 2)"
            ]
          },
          "metadata": {},
          "execution_count": 12
        }
      ]
    },
    {
      "cell_type": "code",
      "source": [
        "arr.shape"
      ],
      "metadata": {
        "colab": {
          "base_uri": "https://localhost:8080/"
        },
        "id": "BYYwevmIFwBV",
        "outputId": "41455a84-c3a3-440c-b5e8-6430f57cc897"
      },
      "execution_count": 13,
      "outputs": [
        {
          "output_type": "execute_result",
          "data": {
            "text/plain": [
              "(2, 2)"
            ]
          },
          "metadata": {},
          "execution_count": 13
        }
      ]
    },
    {
      "cell_type": "code",
      "source": [
        "arr = np.array([[[[1, 2], [3, 4]], [[5, 6], [7, 8]]], [[[9, 10], [11, 12]], [[13, 14], [15, 16]]]])"
      ],
      "metadata": {
        "id": "9jlIaybjF1Yb"
      },
      "execution_count": 14,
      "outputs": []
    },
    {
      "cell_type": "code",
      "source": [
        "mean_along_multiple_axes = np.mean(arr, axis=(0, 2))"
      ],
      "metadata": {
        "id": "8Z7q29yAHIoU"
      },
      "execution_count": 15,
      "outputs": []
    },
    {
      "cell_type": "code",
      "source": [
        "mean_along_multiple_axes"
      ],
      "metadata": {
        "colab": {
          "base_uri": "https://localhost:8080/"
        },
        "id": "k1lMlFTNHLu4",
        "outputId": "a9e9e576-8b28-4e86-8350-ebd0a59d7ad4"
      },
      "execution_count": 16,
      "outputs": [
        {
          "output_type": "execute_result",
          "data": {
            "text/plain": [
              "array([[ 6.,  7.],\n",
              "       [10., 11.]])"
            ]
          },
          "metadata": {},
          "execution_count": 16
        }
      ]
    },
    {
      "cell_type": "code",
      "source": [
        "arr.shape"
      ],
      "metadata": {
        "colab": {
          "base_uri": "https://localhost:8080/"
        },
        "id": "RhRYfDo_HNTY",
        "outputId": "aacadf3d-0fa0-4c9c-f063-54e90f320277"
      },
      "execution_count": 17,
      "outputs": [
        {
          "output_type": "execute_result",
          "data": {
            "text/plain": [
              "(2, 2, 2, 2)"
            ]
          },
          "metadata": {},
          "execution_count": 17
        }
      ]
    },
    {
      "cell_type": "code",
      "source": [
        "arr.shape[0]"
      ],
      "metadata": {
        "colab": {
          "base_uri": "https://localhost:8080/"
        },
        "id": "MHpduq36Hdzs",
        "outputId": "5ffc750c-98d8-401d-9af5-323871b21245"
      },
      "execution_count": 18,
      "outputs": [
        {
          "output_type": "execute_result",
          "data": {
            "text/plain": [
              "2"
            ]
          },
          "metadata": {},
          "execution_count": 18
        }
      ]
    },
    {
      "cell_type": "code",
      "source": [
        "sum = 0"
      ],
      "metadata": {
        "id": "tpmmVYd9HoAc"
      },
      "execution_count": 19,
      "outputs": []
    },
    {
      "cell_type": "code",
      "source": [
        "count = 0"
      ],
      "metadata": {
        "id": "Tw9alRULIke2"
      },
      "execution_count": 20,
      "outputs": []
    },
    {
      "cell_type": "markdown",
      "source": [
        "arr.shape = (2,2,2,2), then operate np.mean(axis=(0,2))\n",
        "the output.shape = (1,2,1,2), if keepdims = true\n",
        "\n",
        "Now let's calculate the value of output at the position (0,0,0,0)."
      ],
      "metadata": {
        "id": "v1MTTWGPHvLI"
      }
    },
    {
      "cell_type": "code",
      "source": [
        "for i in range(arr.shape[0]):\n",
        "  for j in range(arr.shape[2]):\n",
        "    sum += arr[i][0][j][0]\n",
        "    count +=1\n",
        "\n",
        "sum/count"
      ],
      "metadata": {
        "colab": {
          "base_uri": "https://localhost:8080/"
        },
        "id": "XCKIktcmIX9x",
        "outputId": "4ae7f2d5-de0d-4d33-bba3-e93bf6cdb2f1"
      },
      "execution_count": 21,
      "outputs": [
        {
          "output_type": "execute_result",
          "data": {
            "text/plain": [
              "6.0"
            ]
          },
          "metadata": {},
          "execution_count": 21
        }
      ]
    },
    {
      "cell_type": "markdown",
      "source": [
        "Now we can understand the BatchNormalizion.\n",
        "\n",
        "Let's see the example implementation code from Doubao."
      ],
      "metadata": {
        "id": "-9PNbH-aKAXz"
      }
    },
    {
      "cell_type": "code",
      "source": [
        "import numpy as np\n",
        "\n",
        "\n",
        "class BatchNormalization2D:\n",
        "    def __init__(self, num_features, eps=1e-5, momentum=0.1):\n",
        "        \"\"\"\n",
        "        Initialize the BatchNormalization2D layer.\n",
        "\n",
        "        Args:\n",
        "            num_features (int): The number of channels (features) in the input data.\n",
        "            eps (float): A small value added to the variance to avoid division by zero.\n",
        "            momentum (float): The momentum for updating the running mean and running variance.\n",
        "        \"\"\"\n",
        "        self.num_features = num_features\n",
        "        self.eps = eps\n",
        "        self.momentum = momentum\n",
        "\n",
        "        # Parameters to be learned\n",
        "        self.gamma = np.ones((1, num_features, 1, 1))\n",
        "        self.beta = np.zeros((1, num_features, 1, 1))\n",
        "\n",
        "        # Running statistics\n",
        "        self.running_mean = np.zeros((1, num_features, 1, 1))\n",
        "        self.running_variance = np.ones((1, num_features, 1, 1))\n",
        "\n",
        "    def forward(self, x):\n",
        "        \"\"\"\n",
        "        Forward pass of the BatchNormalization2D layer.\n",
        "\n",
        "        Args:\n",
        "            x (numpy.ndarray): Input data of shape (batch_size, num_features, height, width).\n",
        "\n",
        "        Returns:\n",
        "            numpy.ndarray: Output data after batch normalization.\n",
        "        \"\"\"\n",
        "        if self.training:\n",
        "            # Calculate mean and variance for the current batch\n",
        "            batch_mean = np.mean(x, axis=(0, 2, 3), keepdims=True)\n",
        "            batch_variance = np.var(x, axis=(0, 2, 3), keepdims=True)\n",
        "\n",
        "            # Normalize the batch data\n",
        "            x_normalized = (x - batch_mean) / np.sqrt(batch_variance + self.eps)\n",
        "\n",
        "            # Update running mean and running variance\n",
        "            self.running_mean = self.momentum * self.running_mean + (1 - self.momentum) * batch_mean\n",
        "            self.running_variance = self.momentum * self.running_vrawing_variance + (1 - self.momentum) * batch_variance\n",
        "\n",
        "            # Apply the learned transformation\n",
        "            out = self.gamma * x_normalized + self.beta\n",
        "        else:\n",
        "            # Use the running mean and running variance for normalization during testing\n",
        "            x_normalized = (x - self.running_mean) / np.sqrt(self.running_variance + self.eps)\n",
        "            out = self.gamma * x_normalized + self.beta\n",
        "\n",
        "        return out\n",
        "\n",
        "    def backward(self, dout):\n",
        "        \"\"\"\n",
        "        Backward pass of the BatchNormalization2D layer.\n",
        "\n",
        "        Args:\n",
        "            dout (numpy.ndarray): Gradient of the loss with respect to the output of this layer.\n",
        "\n",
        "        Returns:\n",
        "            numpy.ndarray: Gradient of the loss with respect to the input of this layer.\n",
        "        \"\"\"\n",
        "        if self.training:\n",
        "            batch_size = dout.shape[0]\n",
        "\n",
        "            # Calculate the normalized input from the forward pass\n",
        "            x_normalized = (self.input - self.batch_mean) / np.sqrt(self.batch_variance + self.eps)\n",
        "\n",
        "            # Calculate the gradients of gamma and beta\n",
        "            dgamma = np.sum(dout * x_normalized, axis=(0, 2, 3), keepdims=True)\n",
        "            dbeta = np.sum(dout, axis=(0, 2, 3), keepdims=True)\n",
        "\n",
        "            # Calculate the gradient of the input\n",
        "            dx = dout * self.gamma / np.sqrt(self.batch_variance + self.eps)\n",
        "            dx -= (dgamma * x_normalized + dbeta) / np.sqrt(self.batch_variance + self.eps)\n",
        "            dx *= batch_size / (batch_size - 1)\n",
        "\n",
        "            return dx\n",
        "        else:\n",
        "            # During testing, the gradients are calculated using the running mean and running variance\n",
        "            x_normalized = (self.input - self.running_mean) / np.sqrt(self.running_variance + self.eps)\n",
        "\n",
        "            # Calculate the gradients of gamma and beta\n",
        "            dgamma = np.sum(dout * x_normalized, axis=(0, 2, 3), keepdims=True)\n",
        "            dbeta = np.sum(dout, axis=(0, 2, 3), keepdims=True)\n",
        "\n",
        "            # Calculate the gradient of the input\n",
        "            dx = dout * self.gamma / np.sqrt(self.running_variance + self.eps)\n",
        "            dx -= (dgamma * x_normalized + dbeta) / np.sqrt(self.running_variance + self.eps)\n",
        "\n",
        "            return dx"
      ],
      "metadata": {
        "id": "3Oz1ZqghI6ra"
      },
      "execution_count": null,
      "outputs": []
    },
    {
      "cell_type": "markdown",
      "source": [
        "            batch_mean = np.mean(x, axis=(0, 2, 3), keepdims=True)\n",
        "            batch_variance = np.var(x, axis=(0, 2, 3), keepdims=True)"
      ],
      "metadata": {
        "id": "d_IACzlzKXGi"
      }
    },
    {
      "cell_type": "markdown",
      "source": [
        "Consider the input.shape is (Batch_size, num_features, height, width).\n",
        "\n",
        "Let's say the input.shape is (256, 10, 64, 64), then the\n",
        "output.shape should be (1, 10, 1, 1)."
      ],
      "metadata": {
        "id": "1sGKKpOUKaRY"
      }
    },
    {
      "cell_type": "code",
      "source": [],
      "metadata": {
        "id": "g3iUogo5KaBb"
      },
      "execution_count": null,
      "outputs": []
    },
    {
      "cell_type": "code",
      "source": [],
      "metadata": {
        "id": "sP4TJDOMKWwJ"
      },
      "execution_count": null,
      "outputs": []
    }
  ]
}